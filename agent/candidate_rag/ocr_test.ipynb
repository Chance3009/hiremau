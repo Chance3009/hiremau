{
 "cells": [
  {
   "cell_type": "code",
   "execution_count": 1,
   "id": "24a1cad1",
   "metadata": {},
   "outputs": [],
   "source": [
    "import ollama"
   ]
  },
  {
   "cell_type": "code",
   "execution_count": 3,
   "id": "96212ceb",
   "metadata": {},
   "outputs": [],
   "source": [
    "image_path = r'documents/cert.png'  # Replace with your image path\n",
    "\n",
    "# Use Ollama to analyze the image with Llama 3.2-Vision\n",
    "response = ollama.chat(\n",
    "    model=\"llava:13b\",\n",
    "    messages=[{\n",
    "      \"role\": \"user\",\n",
    "      \"content\": \"\"\"\n",
    "        Analyze this document and create a comprehensive summary of all information that could be relevant for candidate evaluation. The document type is unknown - it could be a resume, certificate, transcript, portfolio, cover letter, or any other candidate-related document.\n",
    "\n",
    "        Write a detailed description that captures:\n",
    "\n",
    "        **Document Type and Purpose**: Identify what type of document this appears to be and its purpose.\n",
    "\n",
    "        **Key Information**: Extract and describe all factual information present, including:\n",
    "        - Names, dates, organizations, institutions\n",
    "        - Titles, positions, roles, achievements\n",
    "        - Skills, qualifications, certifications, credentials\n",
    "        - Education details, courses, programs\n",
    "        - Performance metrics, scores, grades, ratings\n",
    "        - Contact information and identifiers\n",
    "        - Any other relevant details\n",
    "\n",
    "        **Context and Significance**: Explain what this information suggests about the candidate's qualifications, experience, or background. Connect the dots between different pieces of information when possible.\n",
    "\n",
    "        Write in clear, professional language using complete sentences. Include ALL available information, no matter how minor it might seem. Be specific about names, dates, numbers, and technical details. If information is unclear or ambiguous, describe what you can determine and note any uncertainties.\n",
    "\n",
    "        The goal is to create a comprehensive record that preserves all potentially useful information for candidate assessment, regardless of the original document format.\n",
    "      \"\"\",\n",
    "      \"images\": [image_path]\n",
    "    }],\n",
    ")"
   ]
  },
  {
   "cell_type": "code",
   "execution_count": 4,
   "id": "ec54402e",
   "metadata": {},
   "outputs": [
    {
     "name": "stdout",
     "output_type": "stream",
     "text": [
      "Model Response: Document Type and Purpose:\n",
      "The document in question appears to be an award or certificate of recognition or achievement. It could serve several purposes, such as commendation for professional services rendered, completion of a course, or attainment of a milestone within an organization. The exact purpose is not explicitly stated but can be inferred from the content and context presented in the document.\n",
      "\n",
      "Key Information:\n",
      "- Name: John Smith\n",
      "- Institution/Organization: Technology Institute of Advanced Certification\n",
      "- Title/Position: Senior Solution Architect\n",
      "- Achievement or Recognition: The certificate recognizes \"John Smith\" for achieving \"Cloud Solutions Architecture Professional\" status and being awarded the AWS Certified Solutions Architect - Associate certification.\n",
      "- Date: While not explicitly stated, it appears to be a recent accomplishment given that John Smith was able to achieve the designation within the context of this certificate.\n",
      "\n",
      "Context and Significance:\n",
      "This certificate is significant for several reasons:\n",
      "1. It signifies professional achievement in cloud computing solutions architecture, which is an important skill set in today's technology-driven world.\n",
      "2. The AWS Certified Solutions Architect - Associate certification is widely recognized in the industry and represents a standard level of knowledge and competence in designing and deploying cloud solutions on Amazon Web Services (AWS).\n",
      "3. Being recognized by the Technology Institute of Advanced Certification suggests that John Smith has demonstrated a high level of proficiency, which may also be associated with his role as a Senior Solution Architect.\n",
      "4. The fact that this certificate is issued in recognition of achievement implies that it represents not only an academic accomplishment but also practical skills and experience relevant to the professional field.\n",
      "\n",
      "Overall, the certificate highlights John Smith's competence in cloud computing solutions architecture, his AWS certification, and his likely significant experience in the field of solution architecture. It serves as a testament to his professional abilities and could be valuable for future career opportunities or promotions within the technology sector.\n"
     ]
    }
   ],
   "source": [
    "#response['message']['content']\n",
    "# Extract the model's response about the image\n",
    "cleaned_text = response['message']['content'].strip()\n",
    "print(f\"Model Response: {cleaned_text}\")"
   ]
  }
 ],
 "metadata": {
  "kernelspec": {
   "display_name": "hackattenv",
   "language": "python",
   "name": "python3"
  },
  "language_info": {
   "codemirror_mode": {
    "name": "ipython",
    "version": 3
   },
   "file_extension": ".py",
   "mimetype": "text/x-python",
   "name": "python",
   "nbconvert_exporter": "python",
   "pygments_lexer": "ipython3",
   "version": "3.12.11"
  }
 },
 "nbformat": 4,
 "nbformat_minor": 5
}
